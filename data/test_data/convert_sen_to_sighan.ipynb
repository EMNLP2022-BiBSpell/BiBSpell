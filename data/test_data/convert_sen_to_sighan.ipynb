{
 "cells": [
  {
   "cell_type": "code",
   "execution_count": null,
   "metadata": {},
   "outputs": [],
   "source": [
    "path='sighan13/'\n",
    "with open(path+'TestInput.txt') as m_f,open(path+'wrong_sig_13_correct_test.txt') as c_f,open(path+'TestTruth.txt','w') as output_f:\n",
    "    m_lines,c_lines=m_f.readlines()[0:],c_f.readlines()[0:]\n",
    "    for i in range(len(m_lines)):\n",
    "        new_sen=[]\n",
    "        pid=m_lines[i].strip().split('\t')[0]\n",
    "        m_line=m_lines[i].strip().split('\t')[1]\n",
    "        pid=pid.split('=')[1][0:-1]\n",
    "        c_line=c_lines[i]\n",
    "        new_sen.append(pid)\n",
    "        add_0_flag=True\n",
    "        for j in range(len(m_line)):\n",
    "            if c_line[j]!=m_line[j]:\n",
    "                add_0_flag=False\n",
    "                new_sen.append(str(j+1))\n",
    "                new_sen.append(c_line[j])\n",
    "        if add_0_flag:\n",
    "            new_sen.append(str(0))\n",
    "        output_f.write(', '.join(new_sen)+'\\n')\n",
    "        "
   ]
  },
  {
   "cell_type": "code",
   "execution_count": null,
   "metadata": {},
   "outputs": [],
   "source": []
  }
 ],
 "metadata": {
  "kernelspec": {
   "display_name": "Python 3",
   "language": "python",
   "name": "python3"
  },
  "language_info": {
   "codemirror_mode": {
    "name": "ipython",
    "version": 3
   },
   "file_extension": ".py",
   "mimetype": "text/x-python",
   "name": "python",
   "nbconvert_exporter": "python",
   "pygments_lexer": "ipython3",
   "version": "3.6.4"
  }
 },
 "nbformat": 4,
 "nbformat_minor": 4
}
